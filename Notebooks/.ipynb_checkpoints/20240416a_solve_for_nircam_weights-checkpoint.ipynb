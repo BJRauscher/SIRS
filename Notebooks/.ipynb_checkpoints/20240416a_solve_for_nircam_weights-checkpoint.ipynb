{
 "cells": [
  {
   "cell_type": "markdown",
   "id": "df2f2f19-7ec2-4a5f-9c13-803c1715469d",
   "metadata": {},
   "source": [
    "# <center>Make NIRCam Simple Improved Reference Subtraction (SIRS) Calibration Files</center>\n",
    "\n",
    "<center><center>Bernard J. Rauscher<br>\n",
    "<em>Observational Cosmology Laboratory, NASA Goddard Space Flight Center, Greenbelt, MD, 21784, USA</em><br>\n",
    "Bernard.J.Rauscher@nasa.gov</center></center>\n",
    "\n",
    "## Abstract\n",
    "\n",
    "This notebook shows how to compute the Simple Improved Reference Subtraction (SIRS)$^1$ calibration files for JWST NIRCam. SIRS provides statistically optimal reference correction if: (1) correlated read noise is strongly dominated by $1/f$ noise, (2) the reference pixel border is the only reference information that is available, and (3) the left and right reference columns are robustly averaged into 2048 two element vectors. Mathematically, SIRS is superior to smoothing the reference columns any other way (i.e. rolling median or Gauss smoothing). SIRS provides reference correction that is intermediate between the current NIRCam Pipeline and NIRSpec's Improved Reference Sampling and Subtraction (IRS$^2$) that uses a speciallized clocking pattern to interleave additional reference information.$^2$\n",
    "\n",
    "## 1 INTRODUCTION\n",
    "\n",
    "We developed SIRS for Nancy Grace Roman Space Telescope (Roman) ground test data in about 2000. At the time, Roman planned to follow NIRCam's example and downlink only co-averaged groups of data. When Roman testing in the Goddard Detector Characterization Laboratory (DCL) revealed undesirably high $1/f$ noise, we developed SIRS as a mitigation that was consistent with NIRCam-like plans. SIRS is therefore directly applicable to NIRCam as well.\n",
    "\n",
    "Fortunately, the SIRS study convinced the Roman Project to downlink the reference output as an additional mitigation. Roman will not use SIRS on orbit. Instead, it will use Improved Roman Reference Correction (IRRC). Because NIRCam does not downlink the reference output, SIRS is the best that can be done for NIRCam without making major changes to how the instrument is operated.\n",
    "\n",
    "## 2 PREPROCESSING\n",
    "\n",
    "In the JWST Pipeline, SIRS takes the place of reference correction using side reference pixels. You should apply all pipeline steps up through reference correction. For the reference correction step: (1) do not apply the alternating columns noise correction and (2) do not apply the reference columns correction.\n",
    "\n",
    "## 3 TUTORIAL\n",
    "\n",
    "### 3.1 Preliminaries\n",
    "\n",
    "This document is an executable Jupyter notebook. This is Julia."
   ]
  },
  {
   "cell_type": "code",
   "execution_count": 1,
   "id": "3d798dbb-4f55-48c2-a4c2-57189eac5bbc",
   "metadata": {},
   "outputs": [
    {
     "name": "stderr",
     "output_type": "stream",
     "text": [
      "\u001b[32m\u001b[1mPrecompiling\u001b[22m\u001b[39m SIRS\n",
      "\u001b[32m  ✓ \u001b[39mSIRS\n",
      "  1 dependency successfully precompiled in 9 seconds. 251 already precompiled.\n"
     ]
    }
   ],
   "source": [
    "# Standard packages\n",
    "using Revise, Glob, FITSIO, HDF5\n",
    "\n",
    "# Load SIRS\n",
    "using SIRS\n",
    "\n",
    "# Definitions. I am working on the National Center for Climate Simulation (NCCS)\n",
    "# high performance Prism cluster.\n",
    "prog_id = \"01453\"                         # The input data are from this Program ID\n",
    "datdir = \"/lscratch/brausche/NRCA\"        # Stage data to Prism's high speed disks\n",
    "outdir = \"/explore/nobackup/people/brausche\"*\n",
    "                \"/data/JWST/Library/SIRS\" # Write results here\n",
    "nint = 2                                  # Number of integrations per exposure\n",
    "nframe = 150                              # This many frames per integration\n",
    "nz = 30                                   # Work in \"chunks\" of this many frames to fit in GPU RAM\n",
    "\n",
    "# Vectors of all SWIR NIRCam sensor chip systems (SCS)\n",
    "nrca = [\"nrca1\", \"nrca2\", \"nrca3\", \"nrca4\", \"nrcalong\"]\n",
    "nrcb = [\"nrcb1\", \"nrcb2\", \"nrcb3\", \"nrcb4\", \"nrcblong\"]\n",
    "\n",
    "# The flight data have many cosmic rays. Instantiate the\n",
    "# cosmic ray fixer.\n",
    "F = CRFix(nframe);"
   ]
  },
  {
   "cell_type": "markdown",
   "id": "52315303-0129-42f6-9f51-ac3e800cd6aa",
   "metadata": {},
   "source": [
    "### 3.2 Compute NRCA Calibration File\n",
    "\n",
    "Compute frequencies and frequency dependent weights for NRCA."
   ]
  },
  {
   "cell_type": "code",
   "execution_count": 6,
   "id": "f71cf107-5fc9-4156-a220-4be08f7076a4",
   "metadata": {},
   "outputs": [
    {
     "name": "stdout",
     "output_type": "stream",
     "text": [
      "Processing SCS nrca1\n",
      "processing jw01453011001_05201_00001_nrca1_refpixstep.fits integration 1\n"
     ]
    },
    {
     "ename": "LoadError",
     "evalue": "UndefVarError: `M` not defined",
     "output_type": "error",
     "traceback": [
      "UndefVarError: `M` not defined",
      "",
      "Stacktrace:",
      " [1] crfix(F::CRFix, D::Array{Float32, 3}; init::Bool)",
      "   @ SIRS /panfs/ccds02/nobackup/people/brausche/julia/SIRS/src/JWST.jl:338",
      " [2] crfix(F::CRFix, D::Array{Float32, 3})",
      "   @ SIRS /panfs/ccds02/nobackup/people/brausche/julia/SIRS/src/JWST.jl:294",
      " [3] nircam_sirs_solve(F::CRFix, nz::Int64, files::Vector{String})",
      "   @ SIRS /panfs/ccds02/nobackup/people/brausche/julia/SIRS/src/JWST.jl:554",
      " [4] top-level scope",
      "   @ ./In[6]:19"
     ]
    }
   ],
   "source": [
    "f = []\n",
    "γ = []\n",
    "ζ = []\n",
    "ps_𝓵 = []\n",
    "ps_𝓻 = []\n",
    "ps_𝓷 = []\n",
    "for scs in nrca\n",
    "    \n",
    "    # STUB\n",
    "    if scs != \"nrca1\"; continue; end\n",
    "   \n",
    "    # Display status\n",
    "    println(\"Processing SCS \", scs)\n",
    "    \n",
    "    # Get input files\n",
    "    files = glob(\"*\"*scs*\"*.fits\", datdir)\n",
    "    \n",
    "    # Do it\n",
    "    f, _γ, _ζ, _ps_𝓵, _ps_𝓻, _ps_𝓷 = nircam_sirs_solve(F, nz, files)\n",
    "    push!(γ, _γ)\n",
    "    push!(ζ, _ζ)  \n",
    "    push!(ps_𝓵, _ps_𝓵)\n",
    "    push!(ps_𝓻, _ps_𝓻)\n",
    "    push!(ps_𝓷, _ps_𝓷)\n",
    "    \n",
    "end\n",
    "\n",
    "# Save\n",
    "# SIRS.h5write(prog_id, Float32.(f), γ, ζ, nrca, outdir*\"/20240416_sirs_nircam_nrca.h5\")"
   ]
  },
  {
   "cell_type": "code",
   "execution_count": null,
   "id": "5be4afc3-a902-422d-aea4-4bdd9f3f6b31",
   "metadata": {},
   "outputs": [],
   "source": []
  },
  {
   "cell_type": "markdown",
   "id": "6b9a73f7-2e31-42a0-a32a-0b8ac481f815",
   "metadata": {},
   "source": [
    "### 3.3 Compute NRCB Calibration File\n",
    "\n",
    "Compute frequencies and frequency dependent weights for NRCB."
   ]
  },
  {
   "cell_type": "raw",
   "id": "ffcd3ed2-d68d-46b8-a9e4-f647097d621e",
   "metadata": {},
   "source": [
    "f = []\n",
    "γ = []\n",
    "ζ = []\n",
    "for scs in nrcb\n",
    "   \n",
    "    # Display status\n",
    "    println(\"Processing SCS \", scs)\n",
    "    \n",
    "    # Get input files\n",
    "    files = glob(\"*\"*scs*\"*.fits\", datdir)\n",
    "    \n",
    "    # Do it\n",
    "    f,_γ,_ζ = nircam_sirs_solve(F, nz, files)\n",
    "    push!(γ, _γ)\n",
    "    push!(ζ, _ζ)\n",
    "    \n",
    "end\n",
    "\n",
    "# Save\n",
    "SIRS.h5write(prog_id, Float32.(f), γ, ζ, nrcb, outdir*\"/20240410_sirs_nircam_nrcb.h5\")"
   ]
  },
  {
   "cell_type": "markdown",
   "id": "60449e25-056c-4417-b213-55953430d68c",
   "metadata": {},
   "source": [
    "## Acknowledgments\n",
    "\n",
    "This work was supported by the James Webb Space Telescope and Nancy Grace Roman Space Telescope Projects. Resources supporting this work were provided by the NASA High-End Computing (HEC) Program through the NASA Center for Climate Simulation (NCCS) at Goddard Space Flight Center.\n",
    "\n",
    "## Bibliography\n",
    "1. Rauscher, B. J., Fixsen, D. J. & Mosby, G. *Simple improved reference subtraction for H4RG, H2RG, and H1RG near-infrared array detectors.* JATIS, Syst. 8, 28002 (2022).\n",
    "2. Rauscher, B. J. *et al. Improved Reference Sampling and Subtraction: A Technique for Reducing the Read Noise of Near-infrared Detector Systems.* PASP 129, 105003 (2017)."
   ]
  },
  {
   "cell_type": "code",
   "execution_count": 3,
   "id": "cf7e043b-0902-4e1a-be04-647e035edcc8",
   "metadata": {},
   "outputs": [],
   "source": [
    "using Revise, CUDA"
   ]
  },
  {
   "cell_type": "code",
   "execution_count": 4,
   "id": "729b27e5-6f15-4afc-8143-6cf9660a89ab",
   "metadata": {},
   "outputs": [
    {
     "data": {
      "text/plain": [
       "7-element CuArray{Float64, 1, CUDA.Mem.DeviceBuffer}:\n",
       " -0.8243445795257629\n",
       " -0.6685580825334525\n",
       "  0.19441210038339685\n",
       " -1.2421093273925254\n",
       " -1.026997408290737\n",
       " -0.20568395151062271\n",
       " -0.4009250163996754"
      ]
     },
     "execution_count": 4,
     "metadata": {},
     "output_type": "execute_result"
    }
   ],
   "source": [
    "a = CuArray(randn(5))\n",
    "b = CuArray(randn(7))"
   ]
  },
  {
   "cell_type": "code",
   "execution_count": null,
   "id": "81a71abc-0250-4245-8d7e-3e5efed8ddf5",
   "metadata": {},
   "outputs": [],
   "source": []
  }
 ],
 "metadata": {
  "kernelspec": {
   "display_name": "roman-julia",
   "language": "julia",
   "name": "roman-julia"
  },
  "language_info": {
   "file_extension": ".jl",
   "mimetype": "application/julia",
   "name": "julia",
   "version": "1.10.0"
  }
 },
 "nbformat": 4,
 "nbformat_minor": 5
}
