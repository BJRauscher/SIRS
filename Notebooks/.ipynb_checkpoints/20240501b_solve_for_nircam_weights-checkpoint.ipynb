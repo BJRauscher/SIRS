{
 "cells": [
  {
   "cell_type": "markdown",
   "id": "df2f2f19-7ec2-4a5f-9c13-803c1715469d",
   "metadata": {},
   "source": [
    "# <center>Make NIRCam Simple Improved Reference Subtraction (SIRS) Calibration Files</center>\n",
    "\n",
    "<center><center>Bernard J. Rauscher<br>\n",
    "<em>Observational Cosmology Laboratory, NASA Goddard Space Flight Center, Greenbelt, MD, 21784, USA</em><br>\n",
    "Bernard.J.Rauscher@nasa.gov</center></center>\n",
    "\n",
    "## Abstract\n",
    "\n",
    "This notebook shows how to compute the Simple Improved Reference Subtraction (SIRS)$^1$ calibration files for JWST NIRCam. SIRS provides statistically optimal reference correction if: (1) correlated read noise is strongly dominated by $1/f$ noise, (2) the reference pixel border is the only reference information that is available, and (3) the left and right reference columns are robustly averaged into 2048 two element vectors. Mathematically, SIRS is superior to smoothing the reference columns any other way (i.e. rolling median or Gauss smoothing). SIRS provides reference correction that is intermediate between the current NIRCam Pipeline and NIRSpec's Improved Reference Sampling and Subtraction (IRS$^2$) that uses a speciallized clocking pattern to interleave additional reference information.$^2$\n",
    "\n",
    "## 1 INTRODUCTION\n",
    "\n",
    "We developed SIRS for Nancy Grace Roman Space Telescope (Roman) ground test data in about 2000. At the time, Roman planned to follow NIRCam's example and downlink only co-averaged groups of data. When Roman testing in the Goddard Detector Characterization Laboratory (DCL) revealed undesirably high $1/f$ noise, we developed SIRS as a mitigation that was consistent with NIRCam-like plans. SIRS is therefore directly applicable to NIRCam as well.\n",
    "\n",
    "Fortunately, the SIRS study convinced the Roman Project to downlink the reference output as an additional mitigation. Roman will not use SIRS on orbit. Instead, it will use Improved Roman Reference Correction (IRRC). Because NIRCam does not downlink the reference output, SIRS is the best that can be done for NIRCam without making major changes to how the instrument is operated.\n",
    "\n",
    "## 2 PREPROCESSING\n",
    "\n",
    "In the JWST Pipeline, SIRS takes the place of reference correction using side reference pixels. You should apply all pipeline steps up through reference correction. For the reference correction step: (1) do not apply the alternating columns noise correction and (2) do not apply the reference columns correction.\n",
    "\n",
    "## 3 TUTORIAL\n",
    "\n",
    "### 3.1 Preliminaries\n",
    "\n",
    "This document is an executable Jupyter notebook. This is Julia."
   ]
  },
  {
   "cell_type": "code",
   "execution_count": 1,
   "id": "3d798dbb-4f55-48c2-a4c2-57189eac5bbc",
   "metadata": {},
   "outputs": [
    {
     "name": "stderr",
     "output_type": "stream",
     "text": [
      "\u001b[32m\u001b[1mPrecompiling\u001b[22m\u001b[39m SIRS\n",
      "\u001b[32m  ✓ \u001b[39mSIRS\n",
      "  1 dependency successfully precompiled in 9 seconds. 251 already precompiled.\n"
     ]
    }
   ],
   "source": [
    "# Standard packages\n",
    "using Revise, Glob, FITSIO, HDF5, Plots, FFTW\n",
    "\n",
    "# Load SIRS\n",
    "using SIRS\n",
    "\n",
    "# Definitions. I am working on the National Center for Climate Simulation (NCCS)\n",
    "# high performance Prism cluster.\n",
    "prog_id = \"01453\"                         # The input data are from this Program ID\n",
    "outdir = \"/explore/nobackup/people/brausche\"*\n",
    "                \"/data/JWST/Library/SIRS\" # Write results here\n",
    "nint = 2                                  # Number of integrations per exposure\n",
    "nframe = 150                              # This many frames per integration\n",
    "nz = 30                                   # Work in \"chunks\" of this many frames to fit in GPU RAM\n",
    "\n",
    "# Vectors of all SWIR NIRCam sensor chip systems (SCS)\n",
    "nrca = [\"nrca1\", \"nrca2\", \"nrca3\", \"nrca4\", \"nrcalong\"]\n",
    "nrcb = [\"nrcb1\", \"nrcb2\", \"nrcb3\", \"nrcb4\", \"nrcblong\"]\n",
    "\n",
    "# The flight data have many cosmic rays. Instantiate the\n",
    "# cosmic ray fixer.\n",
    "F = CRFix(nframe);"
   ]
  },
  {
   "cell_type": "markdown",
   "id": "52315303-0129-42f6-9f51-ac3e800cd6aa",
   "metadata": {},
   "source": [
    "### 3.2 Compute NRCA Calibration File\n",
    "\n",
    "Compute frequencies and frequency dependent weights for NRCA."
   ]
  },
  {
   "cell_type": "code",
   "execution_count": null,
   "id": "f71cf107-5fc9-4156-a220-4be08f7076a4",
   "metadata": {},
   "outputs": [
    {
     "name": "stdout",
     "output_type": "stream",
     "text": [
      "Processing SCS nrca1\n",
      "processing jw01453011001_05201_00001_nrca1_refpixstep.fits integration 1\n",
      "processing jw01453011001_05201_00001_nrca1_refpixstep.fits integration 2\n",
      "processing jw01453015001_03201_00001_nrca1_refpixstep.fits integration 1\n",
      "processing jw01453015001_03201_00001_nrca1_refpixstep.fits integration 2\n",
      "processing jw01453017001_02201_00001_nrca1_refpixstep.fits integration 1\n",
      "processing jw01453017001_02201_00001_nrca1_refpixstep.fits integration 2\n",
      "processing jw01453019001_03301_00001_nrca1_refpixstep.fits integration 1\n",
      "processing jw01453019001_03301_00001_nrca1_refpixstep.fits integration 2\n",
      "Processing SCS nrca2\n",
      "processing jw01453011001_05201_00001_nrca2_refpixstep.fits integration 1\n",
      "processing jw01453011001_05201_00001_nrca2_refpixstep.fits integration 2\n",
      "processing jw01453015001_03201_00001_nrca2_refpixstep.fits integration 1\n",
      "processing jw01453015001_03201_00001_nrca2_refpixstep.fits integration 2\n",
      "processing jw01453017001_02201_00001_nrca2_refpixstep.fits integration 1\n",
      "processing jw01453017001_02201_00001_nrca2_refpixstep.fits integration 2\n",
      "processing jw01453019001_03301_00001_nrca2_refpixstep.fits integration 1\n",
      "processing jw01453019001_03301_00001_nrca2_refpixstep.fits integration 2\n",
      "Processing SCS nrca3\n",
      "processing jw01453011001_05201_00001_nrca3_refpixstep.fits integration 1\n",
      "processing jw01453011001_05201_00001_nrca3_refpixstep.fits integration 2\n",
      "processing jw01453015001_03201_00001_nrca3_refpixstep.fits integration 1\n",
      "processing jw01453015001_03201_00001_nrca3_refpixstep.fits integration 2\n",
      "processing jw01453017001_02201_00001_nrca3_refpixstep.fits integration 1\n"
     ]
    }
   ],
   "source": [
    "datdir = \"/lscratch/brausche/NRCA\"        # Stage data to Prism's high speed disks\n",
    "\n",
    "f = []\n",
    "γ = []\n",
    "ζ = []\n",
    "ps_𝓵 = []\n",
    "ps_𝓻 = []\n",
    "ps_𝓷 = []\n",
    "for scs in nrca\n",
    "    \n",
    "    # STUB\n",
    "    # if scs != \"nrca1\"; continue; end\n",
    "   \n",
    "    # Display status\n",
    "    println(\"Processing SCS \", scs)\n",
    "    \n",
    "    # Get input files\n",
    "    files = glob(\"*\"*scs*\"*.fits\", datdir)\n",
    "    \n",
    "    # Do it\n",
    "    f, _γ, _ζ, _ps_𝓵, _ps_𝓻, _ps_𝓷 = nircam_sirs_solve(F, nz, files)\n",
    "    push!(γ, _γ)\n",
    "    push!(ζ, _ζ)  \n",
    "    push!(ps_𝓵, _ps_𝓵)\n",
    "    push!(ps_𝓻, _ps_𝓻)\n",
    "    push!(ps_𝓷, _ps_𝓷)\n",
    "    \n",
    "end\n",
    "\n",
    "# Save\n",
    "SIRS.h5write(prog_id, Float32.(f), γ, ζ, ps_𝓵, ps_𝓻, ps_𝓷,\n",
    "            nrca, outdir*\"/20240501_sirs_nircam_nrca.h5\")"
   ]
  },
  {
   "cell_type": "code",
   "execution_count": 9,
   "id": "829f90ea-3346-4536-91b3-ed9a591cc80b",
   "metadata": {},
   "outputs": [
    {
     "name": "stderr",
     "output_type": "stream",
     "text": [
      "\u001b[33m\u001b[1m┌ \u001b[22m\u001b[39m\u001b[33m\u001b[1mWarning: \u001b[22m\u001b[39mNo strict ticks found\n",
      "\u001b[33m\u001b[1m└ \u001b[22m\u001b[39m\u001b[90m@ PlotUtils ~/.julia/packages/PlotUtils/8mrSm/src/ticks.jl:194\u001b[39m\n",
      "\u001b[33m\u001b[1m┌ \u001b[22m\u001b[39m\u001b[33m\u001b[1mWarning: \u001b[22m\u001b[39mNo strict ticks found\n",
      "\u001b[33m\u001b[1m└ \u001b[22m\u001b[39m\u001b[90m@ PlotUtils ~/.julia/packages/PlotUtils/8mrSm/src/ticks.jl:194\u001b[39m\n",
      "\u001b[33m\u001b[1m┌ \u001b[22m\u001b[39m\u001b[33m\u001b[1mWarning: \u001b[22m\u001b[39mInvalid negative or zero value -33.539024 found at series index 1 for log10 based yscale\n",
      "\u001b[33m\u001b[1m└ \u001b[22m\u001b[39m\u001b[90m@ Plots ~/.julia/packages/Plots/ju9dp/src/utils.jl:106\u001b[39m\n",
      "\u001b[33m\u001b[1m┌ \u001b[22m\u001b[39m\u001b[33m\u001b[1mWarning: \u001b[22m\u001b[39mNo strict ticks found\n",
      "\u001b[33m\u001b[1m└ \u001b[22m\u001b[39m\u001b[90m@ PlotUtils ~/.julia/packages/PlotUtils/8mrSm/src/ticks.jl:194\u001b[39m\n",
      "\u001b[33m\u001b[1m┌ \u001b[22m\u001b[39m\u001b[33m\u001b[1mWarning: \u001b[22m\u001b[39mNo strict ticks found\n",
      "\u001b[33m\u001b[1m└ \u001b[22m\u001b[39m\u001b[90m@ PlotUtils ~/.julia/packages/PlotUtils/8mrSm/src/ticks.jl:194\u001b[39m\n",
      "\u001b[33m\u001b[1m┌ \u001b[22m\u001b[39m\u001b[33m\u001b[1mWarning: \u001b[22m\u001b[39mInvalid negative or zero value -33.539024 found at series index 1 for log10 based yscale\n",
      "\u001b[33m\u001b[1m└ \u001b[22m\u001b[39m\u001b[90m@ Plots ~/.julia/packages/Plots/ju9dp/src/utils.jl:106\u001b[39m\n"
     ]
    },
    {
     "data": {
      "image/png": "[encoded data removed]",
      "image/svg+xml": [
       "<?xml version=\"1.0\" encoding=\"utf-8\"?>\n",
       "<svg xmlns=\"http://www.w3.org/2000/svg\" xmlns:xlink=\"http://www.w3.org/1999/xlink\" width=\"600\" height=\"400\" viewBox=\"0 0 2400 1600\">\n",
       "<defs>\n",
       "  <clipPath id=\"clip680\">\n",
       "    <rect x=\"0\" y=\"0\" width=\"2400\" height=\"1600\"/>\n",
       "  </clipPath>\n",
       "</defs>\n",
       "<path clip-path=\"url(#clip680)\" d=\"M0 1600 L2400 1600 L2400 0 L0 0  Z\" fill=\"#ffffff\" fill-rule=\"evenodd\" fill-opacity=\"1\"/>\n",
       "<defs>\n",
       "  <clipPath id=\"clip681\">\n",
       "    <rect x=\"480\" y=\"0\" width=\"1681\" height=\"1600\"/>\n",
       "  </clipPath>\n",
       "</defs>\n",
       "<path clip-path=\"url(#clip680)\" d=\"M86.9921 1474.16 L2352.76 1474.16 L2352.76 47.2441 L86.9921 47.2441  Z\" fill=\"#ffffff\" fill-rule=\"evenodd\" fill-opacity=\"1\"/>\n",
       "<defs>\n",
       "  <clipPath id=\"clip682\">\n",
       "    <rect x=\"86\" y=\"47\" width=\"2267\" height=\"1428\"/>\n",
       "  </clipPath>\n",
       "</defs>\n",
       "<path clip-path=\"url(#clip680)\" d=\"M-nan -nan L-nan -nan L-nan -nan L-nan -nan L-nan -nan L-nan -nan L-nan -nan L-nan -nan L-nan -nan L-nan -nan L-nan -nan L-nan -nan Z\" fill=\"#000000\" fill-rule=\"nonzero\" fill-opacity=\"1\" /><path clip-path=\"url(#clip680)\" d=\"M-nan -nan Q-nan -nan -nan -nan Q-nan -nan -nan -nan Q-nan -nan -nan -nan Q-nan -nan -nan -nan Q-nan -nan -nan -nan Q-nan -nan -nan -nan Q-nan -nan -nan -nan Q-nan -nan -nan -nan M-nan -nan Q-nan -nan -nan -nan Q-nan -nan -nan -nan Q-nan -nan -nan -nan Q-nan -nan -nan -nan Q-nan -nan -nan -nan Q-nan -nan -nan -nan Q-nan -nan -nan -nan Q-nan -nan -nan -nan Z\" fill=\"#000000\" fill-rule=\"nonzero\" fill-opacity=\"1\" /><path clip-path=\"url(#clip680)\" d=\"M-nan -nan Q-nan -nan -nan -nan Q-nan -nan -nan -nan Q-nan -nan -nan -nan Q-nan -nan -nan -nan Q-nan -nan -nan -nan Q-nan -nan -nan -nan Q-nan -nan -nan -nan Q-nan -nan -nan -nan M-nan -nan Q-nan -nan -nan -nan Q-nan -nan -nan -nan Q-nan -nan -nan -nan Q-nan -nan -nan -nan Q-nan -nan -nan -nan Q-nan -nan -nan -nan Q-nan -nan -nan -nan Q-nan -nan -nan -nan Z\" fill=\"#000000\" fill-rule=\"nonzero\" fill-opacity=\"1\" /><path clip-path=\"url(#clip680)\" d=\"M-nan -nan L-nan -nan L-nan -nan L-nan -nan L-nan -nan L-nan -nan L-nan -nan L-nan -nan L-nan -nan L-nan -nan L-nan -nan L-nan -nan Z\" fill=\"#000000\" fill-rule=\"nonzero\" fill-opacity=\"1\" /><path clip-path=\"url(#clip680)\" d=\"M-nan -nan Q-nan -nan -nan -nan Q-nan -nan -nan -nan Q-nan -nan -nan -nan Q-nan -nan -nan -nan Q-nan -nan -nan -nan Q-nan -nan -nan -nan Q-nan -nan -nan -nan Q-nan -nan -nan -nan M-nan -nan Q-nan -nan -nan -nan Q-nan -nan -nan -nan Q-nan -nan -nan -nan Q-nan -nan -nan -nan Q-nan -nan -nan -nan Q-nan -nan -nan -nan Q-nan -nan -nan -nan Q-nan -nan -nan -nan Z\" fill=\"#000000\" fill-rule=\"nonzero\" fill-opacity=\"1\" /><path clip-path=\"url(#clip680)\" d=\"M-nan -nan L-nan -nan L-nan -nan L-nan -nan L-nan -nan Q-nan -nan -nan -nan Q-nan -nan -nan -nan Q-nan -nan -nan -nan Q-nan -nan -nan -nan Q-nan -nan -nan -nan Q-nan -nan -nan -nan Q-nan -nan -nan -nan Q-nan -nan -nan -nan L-nan -nan Q-nan -nan -nan -nan Q-nan -nan -nan -nan Q-nan -nan -nan -nan Q-nan -nan -nan -nan Q-nan -nan -nan -nan Q-nan -nan -nan -nan Q-nan -nan -nan -nan Q-nan -nan -nan -nan Z\" fill=\"#000000\" fill-rule=\"nonzero\" fill-opacity=\"1\" /><circle clip-path=\"url(#clip682)\" cx=\"509.255\" cy=\"130.138\" r=\"7.2\" fill=\"#e26f46\" fill-rule=\"evenodd\" fill-opacity=\"0.7\" stroke=\"none\"/>\n",
       "<circle clip-path=\"url(#clip682)\" cx=\"720.387\" cy=\"660.161\" r=\"7.2\" fill=\"#e26f46\" fill-rule=\"evenodd\" fill-opacity=\"0.7\" stroke=\"none\"/>\n",
       "<circle clip-path=\"url(#clip682)\" cx=\"931.519\" cy=\"910.003\" r=\"7.2\" fill=\"#e26f46\" fill-rule=\"evenodd\" fill-opacity=\"0.7\" stroke=\"none\"/>\n",
       "<circle clip-path=\"url(#clip682)\" cx=\"1142.65\" cy=\"1055.41\" r=\"7.2\" fill=\"#e26f46\" fill-rule=\"evenodd\" fill-opacity=\"0.7\" stroke=\"none\"/>\n",
       "<circle clip-path=\"url(#clip682)\" cx=\"1353.78\" cy=\"1128.43\" r=\"7.2\" fill=\"#e26f46\" fill-rule=\"evenodd\" fill-opacity=\"0.7\" stroke=\"none\"/>\n",
       "<circle clip-path=\"url(#clip682)\" cx=\"1564.91\" cy=\"1190.45\" r=\"7.2\" fill=\"#e26f46\" fill-rule=\"evenodd\" fill-opacity=\"0.7\" stroke=\"none\"/>\n",
       "<circle clip-path=\"url(#clip682)\" cx=\"1776.05\" cy=\"1227.29\" r=\"7.2\" fill=\"#e26f46\" fill-rule=\"evenodd\" fill-opacity=\"0.7\" stroke=\"none\"/>\n",
       "<circle clip-path=\"url(#clip682)\" cx=\"1987.18\" cy=\"929.324\" r=\"7.2\" fill=\"#e26f46\" fill-rule=\"evenodd\" fill-opacity=\"0.7\" stroke=\"none\"/>\n",
       "<circle clip-path=\"url(#clip682)\" cx=\"2198.31\" cy=\"1274.81\" r=\"7.2\" fill=\"#e26f46\" fill-rule=\"evenodd\" fill-opacity=\"0.7\" stroke=\"none\"/>\n",
       "<path clip-path=\"url(#clip680)\" d=\"M1998.22 250.328 L2277.23 250.328 L2277.23 94.8081 L1998.22 94.8081  Z\" fill=\"#ffffff\" fill-rule=\"evenodd\" fill-opacity=\"1\"/>\n",
       "<polyline clip-path=\"url(#clip680)\" style=\"stroke:#000000; stroke-linecap:round; stroke-linejoin:round; stroke-width:4; stroke-opacity:1; fill:none\" points=\"1998.22,250.328 2277.23,250.328 2277.23,94.8081 1998.22,94.8081 1998.22,250.328 \"/>\n",
       "<circle clip-path=\"url(#clip680)\" cx=\"2098.92\" cy=\"146.648\" r=\"23.04\" fill=\"#009af9\" fill-rule=\"evenodd\" fill-opacity=\"0.7\" stroke=\"none\"/>\n",
       "<path clip-path=\"url(#clip680)\" d=\"M2213.47 166.336 Q2211.66 170.965 2209.95 172.377 Q2208.24 173.789 2205.37 173.789 L2201.96 173.789 L2201.96 170.224 L2204.46 170.224 Q2206.22 170.224 2207.19 169.391 Q2208.17 168.558 2209.35 165.456 L2210.11 163.511 L2199.63 138.002 L2204.14 138.002 L2212.24 158.28 L2220.34 138.002 L2224.86 138.002 L2213.47 166.336 Z\" fill=\"#000000\" fill-rule=\"nonzero\" fill-opacity=\"1\" /><path clip-path=\"url(#clip680)\" d=\"M2232.15 159.993 L2239.79 159.993 L2239.79 133.627 L2231.48 135.294 L2231.48 131.035 L2239.74 129.368 L2244.42 129.368 L2244.42 159.993 L2252.06 159.993 L2252.06 163.928 L2232.15 163.928 L2232.15 159.993 Z\" fill=\"#000000\" fill-rule=\"nonzero\" fill-opacity=\"1\" /><circle clip-path=\"url(#clip680)\" cx=\"2098.92\" cy=\"198.488\" r=\"23.04\" fill=\"#e26f46\" fill-rule=\"evenodd\" fill-opacity=\"0.7\" stroke=\"none\"/>\n",
       "<path clip-path=\"url(#clip680)\" d=\"M2213.47 218.176 Q2211.66 222.805 2209.95 224.217 Q2208.24 225.629 2205.37 225.629 L2201.96 225.629 L2201.96 222.064 L2204.46 222.064 Q2206.22 222.064 2207.19 221.231 Q2208.17 220.398 2209.35 217.296 L2210.11 215.351 L2199.63 189.842 L2204.14 189.842 L2212.24 210.12 L2220.34 189.842 L2224.86 189.842 L2213.47 218.176 Z\" fill=\"#000000\" fill-rule=\"nonzero\" fill-opacity=\"1\" /><path clip-path=\"url(#clip680)\" d=\"M2235.37 211.833 L2251.68 211.833 L2251.68 215.768 L2229.74 215.768 L2229.74 211.833 Q2232.4 209.078 2236.99 204.449 Q2241.59 199.796 2242.77 198.453 Q2245.02 195.93 2245.9 194.194 Q2246.8 192.435 2246.8 190.745 Q2246.8 187.99 2244.86 186.254 Q2242.93 184.518 2239.83 184.518 Q2237.63 184.518 2235.18 185.282 Q2232.75 186.046 2229.97 187.597 L2229.97 182.875 Q2232.8 181.741 2235.25 181.162 Q2237.7 180.583 2239.74 180.583 Q2245.11 180.583 2248.31 183.268 Q2251.5 185.953 2251.5 190.444 Q2251.5 192.574 2250.69 194.495 Q2249.9 196.393 2247.8 198.986 Q2247.22 199.657 2244.12 202.875 Q2241.01 206.069 2235.37 211.833 Z\" fill=\"#000000\" fill-rule=\"nonzero\" fill-opacity=\"1\" /></svg>\n"
      ],
      "text/html": [
       "<?xml version=\"1.0\" encoding=\"utf-8\"?>\n",
       "<svg xmlns=\"http://www.w3.org/2000/svg\" xmlns:xlink=\"http://www.w3.org/1999/xlink\" width=\"600\" height=\"400\" viewBox=\"0 0 2400 1600\">\n",
       "<defs>\n",
       "  <clipPath id=\"clip730\">\n",
       "    <rect x=\"0\" y=\"0\" width=\"2400\" height=\"1600\"/>\n",
       "  </clipPath>\n",
       "</defs>\n",
       "<path clip-path=\"url(#clip730)\" d=\"M0 1600 L2400 1600 L2400 0 L0 0  Z\" fill=\"#ffffff\" fill-rule=\"evenodd\" fill-opacity=\"1\"/>\n",
       "<defs>\n",
       "  <clipPath id=\"clip731\">\n",
       "    <rect x=\"480\" y=\"0\" width=\"1681\" height=\"1600\"/>\n",
       "  </clipPath>\n",
       "</defs>\n",
       "<path clip-path=\"url(#clip730)\" d=\"M86.9921 1474.16 L2352.76 1474.16 L2352.76 47.2441 L86.9921 47.2441  Z\" fill=\"#ffffff\" fill-rule=\"evenodd\" fill-opacity=\"1\"/>\n",
       "<defs>\n",
       "  <clipPath id=\"clip732\">\n",
       "    <rect x=\"86\" y=\"47\" width=\"2267\" height=\"1428\"/>\n",
       "  </clipPath>\n",
       "</defs>\n",
       "<path clip-path=\"url(#clip730)\" d=\"M-nan -nan L-nan -nan L-nan -nan L-nan -nan L-nan -nan L-nan -nan L-nan -nan L-nan -nan L-nan -nan L-nan -nan L-nan -nan L-nan -nan Z\" fill=\"#000000\" fill-rule=\"nonzero\" fill-opacity=\"1\" /><path clip-path=\"url(#clip730)\" d=\"M-nan -nan Q-nan -nan -nan -nan Q-nan -nan -nan -nan Q-nan -nan -nan -nan Q-nan -nan -nan -nan Q-nan -nan -nan -nan Q-nan -nan -nan -nan Q-nan -nan -nan -nan Q-nan -nan -nan -nan M-nan -nan Q-nan -nan -nan -nan Q-nan -nan -nan -nan Q-nan -nan -nan -nan Q-nan -nan -nan -nan Q-nan -nan -nan -nan Q-nan -nan -nan -nan Q-nan -nan -nan -nan Q-nan -nan -nan -nan Z\" fill=\"#000000\" fill-rule=\"nonzero\" fill-opacity=\"1\" /><path clip-path=\"url(#clip730)\" d=\"M-nan -nan Q-nan -nan -nan -nan Q-nan -nan -nan -nan Q-nan -nan -nan -nan Q-nan -nan -nan -nan Q-nan -nan -nan -nan Q-nan -nan -nan -nan Q-nan -nan -nan -nan Q-nan -nan -nan -nan M-nan -nan Q-nan -nan -nan -nan Q-nan -nan -nan -nan Q-nan -nan -nan -nan Q-nan -nan -nan -nan Q-nan -nan -nan -nan Q-nan -nan -nan -nan Q-nan -nan -nan -nan Q-nan -nan -nan -nan Z\" fill=\"#000000\" fill-rule=\"nonzero\" fill-opacity=\"1\" /><path clip-path=\"url(#clip730)\" d=\"M-nan -nan L-nan -nan L-nan -nan L-nan -nan L-nan -nan L-nan -nan L-nan -nan L-nan -nan L-nan -nan L-nan -nan L-nan -nan L-nan -nan Z\" fill=\"#000000\" fill-rule=\"nonzero\" fill-opacity=\"1\" /><path clip-path=\"url(#clip730)\" d=\"M-nan -nan Q-nan -nan -nan -nan Q-nan -nan -nan -nan Q-nan -nan -nan -nan Q-nan -nan -nan -nan Q-nan -nan -nan -nan Q-nan -nan -nan -nan Q-nan -nan -nan -nan Q-nan -nan -nan -nan M-nan -nan Q-nan -nan -nan -nan Q-nan -nan -nan -nan Q-nan -nan -nan -nan Q-nan -nan -nan -nan Q-nan -nan -nan -nan Q-nan -nan -nan -nan Q-nan -nan -nan -nan Q-nan -nan -nan -nan Z\" fill=\"#000000\" fill-rule=\"nonzero\" fill-opacity=\"1\" /><path clip-path=\"url(#clip730)\" d=\"M-nan -nan L-nan -nan L-nan -nan L-nan -nan L-nan -nan Q-nan -nan -nan -nan Q-nan -nan -nan -nan Q-nan -nan -nan -nan Q-nan -nan -nan -nan Q-nan -nan -nan -nan Q-nan -nan -nan -nan Q-nan -nan -nan -nan Q-nan -nan -nan -nan L-nan -nan Q-nan -nan -nan -nan Q-nan -nan -nan -nan Q-nan -nan -nan -nan Q-nan -nan -nan -nan Q-nan -nan -nan -nan Q-nan -nan -nan -nan Q-nan -nan -nan -nan Q-nan -nan -nan -nan Z\" fill=\"#000000\" fill-rule=\"nonzero\" fill-opacity=\"1\" /><circle clip-path=\"url(#clip732)\" cx=\"509.255\" cy=\"130.138\" r=\"7.2\" fill=\"#e26f46\" fill-rule=\"evenodd\" fill-opacity=\"0.7\" stroke=\"none\"/>\n",
       "<circle clip-path=\"url(#clip732)\" cx=\"720.387\" cy=\"660.161\" r=\"7.2\" fill=\"#e26f46\" fill-rule=\"evenodd\" fill-opacity=\"0.7\" stroke=\"none\"/>\n",
       "<circle clip-path=\"url(#clip732)\" cx=\"931.519\" cy=\"910.003\" r=\"7.2\" fill=\"#e26f46\" fill-rule=\"evenodd\" fill-opacity=\"0.7\" stroke=\"none\"/>\n",
       "<circle clip-path=\"url(#clip732)\" cx=\"1142.65\" cy=\"1055.41\" r=\"7.2\" fill=\"#e26f46\" fill-rule=\"evenodd\" fill-opacity=\"0.7\" stroke=\"none\"/>\n",
       "<circle clip-path=\"url(#clip732)\" cx=\"1353.78\" cy=\"1128.43\" r=\"7.2\" fill=\"#e26f46\" fill-rule=\"evenodd\" fill-opacity=\"0.7\" stroke=\"none\"/>\n",
       "<circle clip-path=\"url(#clip732)\" cx=\"1564.91\" cy=\"1190.45\" r=\"7.2\" fill=\"#e26f46\" fill-rule=\"evenodd\" fill-opacity=\"0.7\" stroke=\"none\"/>\n",
       "<circle clip-path=\"url(#clip732)\" cx=\"1776.05\" cy=\"1227.29\" r=\"7.2\" fill=\"#e26f46\" fill-rule=\"evenodd\" fill-opacity=\"0.7\" stroke=\"none\"/>\n",
       "<circle clip-path=\"url(#clip732)\" cx=\"1987.18\" cy=\"929.324\" r=\"7.2\" fill=\"#e26f46\" fill-rule=\"evenodd\" fill-opacity=\"0.7\" stroke=\"none\"/>\n",
       "<circle clip-path=\"url(#clip732)\" cx=\"2198.31\" cy=\"1274.81\" r=\"7.2\" fill=\"#e26f46\" fill-rule=\"evenodd\" fill-opacity=\"0.7\" stroke=\"none\"/>\n",
       "<path clip-path=\"url(#clip730)\" d=\"M1998.22 250.328 L2277.23 250.328 L2277.23 94.8081 L1998.22 94.8081  Z\" fill=\"#ffffff\" fill-rule=\"evenodd\" fill-opacity=\"1\"/>\n",
       "<polyline clip-path=\"url(#clip730)\" style=\"stroke:#000000; stroke-linecap:round; stroke-linejoin:round; stroke-width:4; stroke-opacity:1; fill:none\" points=\"1998.22,250.328 2277.23,250.328 2277.23,94.8081 1998.22,94.8081 1998.22,250.328 \"/>\n",
       "<circle clip-path=\"url(#clip730)\" cx=\"2098.92\" cy=\"146.648\" r=\"23.04\" fill=\"#009af9\" fill-rule=\"evenodd\" fill-opacity=\"0.7\" stroke=\"none\"/>\n",
       "<path clip-path=\"url(#clip730)\" d=\"M2213.47 166.336 Q2211.66 170.965 2209.95 172.377 Q2208.24 173.789 2205.37 173.789 L2201.96 173.789 L2201.96 170.224 L2204.46 170.224 Q2206.22 170.224 2207.19 169.391 Q2208.17 168.558 2209.35 165.456 L2210.11 163.511 L2199.63 138.002 L2204.14 138.002 L2212.24 158.28 L2220.34 138.002 L2224.86 138.002 L2213.47 166.336 Z\" fill=\"#000000\" fill-rule=\"nonzero\" fill-opacity=\"1\" /><path clip-path=\"url(#clip730)\" d=\"M2232.15 159.993 L2239.79 159.993 L2239.79 133.627 L2231.48 135.294 L2231.48 131.035 L2239.74 129.368 L2244.42 129.368 L2244.42 159.993 L2252.06 159.993 L2252.06 163.928 L2232.15 163.928 L2232.15 159.993 Z\" fill=\"#000000\" fill-rule=\"nonzero\" fill-opacity=\"1\" /><circle clip-path=\"url(#clip730)\" cx=\"2098.92\" cy=\"198.488\" r=\"23.04\" fill=\"#e26f46\" fill-rule=\"evenodd\" fill-opacity=\"0.7\" stroke=\"none\"/>\n",
       "<path clip-path=\"url(#clip730)\" d=\"M2213.47 218.176 Q2211.66 222.805 2209.95 224.217 Q2208.24 225.629 2205.37 225.629 L2201.96 225.629 L2201.96 222.064 L2204.46 222.064 Q2206.22 222.064 2207.19 221.231 Q2208.17 220.398 2209.35 217.296 L2210.11 215.351 L2199.63 189.842 L2204.14 189.842 L2212.24 210.12 L2220.34 189.842 L2224.86 189.842 L2213.47 218.176 Z\" fill=\"#000000\" fill-rule=\"nonzero\" fill-opacity=\"1\" /><path clip-path=\"url(#clip730)\" d=\"M2235.37 211.833 L2251.68 211.833 L2251.68 215.768 L2229.74 215.768 L2229.74 211.833 Q2232.4 209.078 2236.99 204.449 Q2241.59 199.796 2242.77 198.453 Q2245.02 195.93 2245.9 194.194 Q2246.8 192.435 2246.8 190.745 Q2246.8 187.99 2244.86 186.254 Q2242.93 184.518 2239.83 184.518 Q2237.63 184.518 2235.18 185.282 Q2232.75 186.046 2229.97 187.597 L2229.97 182.875 Q2232.8 181.741 2235.25 181.162 Q2237.7 180.583 2239.74 180.583 Q2245.11 180.583 2248.31 183.268 Q2251.5 185.953 2251.5 190.444 Q2251.5 192.574 2250.69 194.495 Q2249.9 196.393 2247.8 198.986 Q2247.22 199.657 2244.12 202.875 Q2241.01 206.069 2235.37 211.833 Z\" fill=\"#000000\" fill-rule=\"nonzero\" fill-opacity=\"1\" /></svg>\n"
      ]
     },
     "execution_count": 9,
     "metadata": {},
     "output_type": "execute_result"
    },
    {
     "name": "stderr",
     "output_type": "stream",
     "text": [
      "\u001b[33m\u001b[1m┌ \u001b[22m\u001b[39m\u001b[33m\u001b[1mWarning: \u001b[22m\u001b[39mNo strict ticks found\n",
      "\u001b[33m\u001b[1m└ \u001b[22m\u001b[39m\u001b[90m@ PlotUtils ~/.julia/packages/PlotUtils/8mrSm/src/ticks.jl:194\u001b[39m\n",
      "\u001b[33m\u001b[1m┌ \u001b[22m\u001b[39m\u001b[33m\u001b[1mWarning: \u001b[22m\u001b[39mNo strict ticks found\n",
      "\u001b[33m\u001b[1m└ \u001b[22m\u001b[39m\u001b[90m@ PlotUtils ~/.julia/packages/PlotUtils/8mrSm/src/ticks.jl:194\u001b[39m\n",
      "\u001b[33m\u001b[1m┌ \u001b[22m\u001b[39m\u001b[33m\u001b[1mWarning: \u001b[22m\u001b[39mNo strict ticks found\n",
      "\u001b[33m\u001b[1m└ \u001b[22m\u001b[39m\u001b[90m@ PlotUtils ~/.julia/packages/PlotUtils/8mrSm/src/ticks.jl:194\u001b[39m\n",
      "\u001b[33m\u001b[1m┌ \u001b[22m\u001b[39m\u001b[33m\u001b[1mWarning: \u001b[22m\u001b[39mInvalid negative or zero value -33.539024 found at series index 1 for log10 based yscale\n",
      "\u001b[33m\u001b[1m└ \u001b[22m\u001b[39m\u001b[90m@ Plots ~/.julia/packages/Plots/ju9dp/src/utils.jl:106\u001b[39m\n"
     ]
    }
   ],
   "source": [
    "x = rfftfreq(2048, 1/(524*10.e-6)) # Frequency\n",
    "r = (ps_𝓵[1] + ps_𝓻[1]) / 2 # Reference pixels\n",
    "scatter(x[2:end], r[2:end].-36, xaxis=:log10, yaxis=:log10, ma=.7, ms=2, msw=0)\n",
    "scatter!(x[2:end], ps_𝓷[1][2:end,1], xaxis=:log10, yaxis=:log10, ma=.7, ms=2, msw=0)"
   ]
  },
  {
   "cell_type": "markdown",
   "id": "6b9a73f7-2e31-42a0-a32a-0b8ac481f815",
   "metadata": {},
   "source": [
    "### 3.3 Compute NRCB Calibration File\n",
    "\n",
    "Compute frequencies and frequency dependent weights for NRCB."
   ]
  },
  {
   "cell_type": "code",
   "execution_count": 5,
   "id": "32cf1e8d-b879-4bab-bff6-ad4e8c4a2f13",
   "metadata": {},
   "outputs": [
    {
     "name": "stdout",
     "output_type": "stream",
     "text": [
      "Processing SCS nrca1\n"
     ]
    },
    {
     "ename": "LoadError",
     "evalue": "BoundsError: attempt to access 0-element Vector{String} at index [1]",
     "output_type": "error",
     "traceback": [
      "BoundsError: attempt to access 0-element Vector{String} at index [1]",
      "",
      "Stacktrace:",
      " [1] getindex",
      "   @ ./essentials.jl:13 [inlined]",
      " [2] nircam_sirs_solve(F::CRFix, nz::Int64, files::Vector{String})",
      "   @ SIRS /panfs/ccds02/nobackup/people/brausche/julia/SIRS/src/JWST.jl:547",
      " [3] top-level scope",
      "   @ ./In[5]:21"
     ]
    }
   ],
   "source": [
    "datdir = \"/lscratch/brausche/NRCB\"        # Stage data to Prism's high speed disks\n",
    "\n",
    "f = []\n",
    "γ = []\n",
    "ζ = []\n",
    "ps_𝓵 = []\n",
    "ps_𝓻 = []\n",
    "ps_𝓷 = []\n",
    "for scs in nrcb\n",
    "    \n",
    "    # Display status\n",
    "    println(\"Processing SCS \", scs)\n",
    "    \n",
    "    # Get input files\n",
    "    files = glob(\"*\"*scs*\"*.fits\", datdir)\n",
    "    \n",
    "    # Do it\n",
    "    f, _γ, _ζ, _ps_𝓵, _ps_𝓻, _ps_𝓷 = nircam_sirs_solve(F, nz, files)\n",
    "    push!(γ, _γ)\n",
    "    push!(ζ, _ζ)  \n",
    "    push!(ps_𝓵, _ps_𝓵)\n",
    "    push!(ps_𝓻, _ps_𝓻)\n",
    "    push!(ps_𝓷, _ps_𝓷)\n",
    "    \n",
    "end\n",
    "\n",
    "# Save\n",
    "SIRS.h5write(prog_id, Float32.(f), γ, ζ, ps_𝓵, ps_𝓻, ps_𝓷,\n",
    "            nrcb, outdir*\"/20240501_sirs_nircam_nrcb.h5\")"
   ]
  },
  {
   "cell_type": "markdown",
   "id": "60449e25-056c-4417-b213-55953430d68c",
   "metadata": {},
   "source": [
    "## Acknowledgments\n",
    "\n",
    "This work was supported by the James Webb Space Telescope and Nancy Grace Roman Space Telescope Projects. Resources supporting this work were provided by the NASA High-End Computing (HEC) Program through the NASA Center for Climate Simulation (NCCS) at Goddard Space Flight Center.\n",
    "\n",
    "## Bibliography\n",
    "1. Rauscher, B. J., Fixsen, D. J. & Mosby, G. *Simple improved reference subtraction for H4RG, H2RG, and H1RG near-infrared array detectors.* JATIS, Syst. 8, 28002 (2022).\n",
    "2. Rauscher, B. J. *et al. Improved Reference Sampling and Subtraction: A Technique for Reducing the Read Noise of Near-infrared Detector Systems.* PASP 129, 105003 (2017)."
   ]
  },
  {
   "cell_type": "code",
   "execution_count": 6,
   "id": "cf7e043b-0902-4e1a-be04-647e035edcc8",
   "metadata": {},
   "outputs": [],
   "source": [
    "using Revise, CUDA"
   ]
  },
  {
   "cell_type": "code",
   "execution_count": 7,
   "id": "729b27e5-6f15-4afc-8143-6cf9660a89ab",
   "metadata": {},
   "outputs": [
    {
     "data": {
      "text/plain": [
       "7-element CuArray{Float64, 1, CUDA.Mem.DeviceBuffer}:\n",
       " -1.0758807250962796\n",
       "  0.6471066291297193\n",
       "  0.43660171884228427\n",
       "  1.5749173004668096\n",
       " -1.4709338761260013\n",
       "  0.8518180547755775\n",
       " -1.122255744060888"
      ]
     },
     "execution_count": 7,
     "metadata": {},
     "output_type": "execute_result"
    }
   ],
   "source": [
    "a = CuArray(randn(5))\n",
    "b = CuArray(randn(7))"
   ]
  },
  {
   "cell_type": "code",
   "execution_count": null,
   "id": "81a71abc-0250-4245-8d7e-3e5efed8ddf5",
   "metadata": {},
   "outputs": [],
   "source": []
  }
 ],
 "metadata": {
  "kernelspec": {
   "display_name": "roman-julia",
   "language": "julia",
   "name": "roman-julia"
  },
  "language_info": {
   "file_extension": ".jl",
   "mimetype": "application/julia",
   "name": "julia",
   "version": "1.10.0"
  }
 },
 "nbformat": 4,
 "nbformat_minor": 5
}
