{
 "cells": [
  {
   "cell_type": "markdown",
   "id": "df2f2f19-7ec2-4a5f-9c13-803c1715469d",
   "metadata": {},
   "source": [
    "This notebook follows a NIRCam example. See the file 20240416a_solve_for_nircam_weights.ipynb for more information."
   ]
  },
  {
   "cell_type": "code",
   "execution_count": 20,
   "id": "3d798dbb-4f55-48c2-a4c2-57189eac5bbc",
   "metadata": {},
   "outputs": [],
   "source": [
    "# Standard packages\n",
    "using Revise, Glob, FITSIO, HDF5, Plots, FFTW\n",
    "\n",
    "# Load SIRS\n",
    "using SIRS\n",
    "\n",
    "# Definitions. I am working on the National Center for Climate Simulation (NCCS)\n",
    "# high performance Prism cluster.\n",
    "prog_id = \"01497\"                         # The input data are from this Program ID\n",
    "datdir = \"/lscratch/brausche\"             # Stage data to Prism's high speed disks\n",
    "outdir = \"/explore/nobackup/people/brausche\"*\n",
    "                \"/data/JWST/Library/SIRS\" # Write results here\n",
    "nint = 2                                  # Number of integrations per exposure\n",
    "nframe = 120                              # This many frames per integration\n",
    "nz = 30                                   # Work in \"chunks\" of this many frames to fit in GPU RAM\n",
    "\n",
    "# The flight data have many cosmic rays. Instantiate the\n",
    "# cosmic ray fixer.\n",
    "F = CRFix(nframe);"
   ]
  },
  {
   "cell_type": "code",
   "execution_count": 21,
   "id": "245c2303-e67c-49f5-a8a0-6d7ada854fc2",
   "metadata": {},
   "outputs": [],
   "source": [
    "# Get input files\n",
    "files = glob(\"*_nis_*.fits\", datdir);"
   ]
  },
  {
   "cell_type": "code",
   "execution_count": null,
   "id": "f71cf107-5fc9-4156-a220-4be08f7076a4",
   "metadata": {},
   "outputs": [
    {
     "name": "stdout",
     "output_type": "stream",
     "text": [
      "processing jw01497001001_02301_00001_nis_refpixstep.fits integration 1\n",
      "processing jw01497001001_02301_00001_nis_refpixstep.fits integration 2\n",
      "processing jw01497001001_02301_00001_nis_refpixstep.fits integration 3\n",
      "processing jw01497001001_02301_00001_nis_refpixstep.fits integration 4\n",
      "processing jw01497001001_02301_00001_nis_refpixstep.fits integration 5\n",
      "processing jw01497002001_02201_00001_nis_refpixstep.fits integration 1\n",
      "processing jw01497002001_02201_00001_nis_refpixstep.fits integration 2\n",
      "processing jw01497002001_02201_00001_nis_refpixstep.fits integration 3\n",
      "processing jw01497002001_02201_00001_nis_refpixstep.fits integration 4\n",
      "processing jw01497002001_02201_00001_nis_refpixstep.fits integration 5\n",
      "processing jw01497003001_04201_00001_nis_refpixstep.fits integration 1\n",
      "processing jw01497003001_04201_00001_nis_refpixstep.fits integration 2\n",
      "processing jw01497003001_04201_00001_nis_refpixstep.fits integration 3\n",
      "processing jw01497003001_04201_00001_nis_refpixstep.fits integration 4\n",
      "processing jw01497003001_04201_00001_nis_refpixstep.fits integration 5\n",
      "processing jw01497004001_02201_00001_nis_refpixstep.fits integration 1\n",
      "processing jw01497004001_02201_00001_nis_refpixstep.fits integration 2\n",
      "processing jw01497004001_02201_00001_nis_refpixstep.fits integration 3\n",
      "processing jw01497004001_02201_00001_nis_refpixstep.fits integration 4\n",
      "processing jw01497004001_02201_00001_nis_refpixstep.fits integration 5\n",
      "processing jw01497005001_02201_00001_nis_refpixstep.fits integration 1\n",
      "processing jw01497005001_02201_00001_nis_refpixstep.fits integration 2\n",
      "processing jw01497005001_02201_00001_nis_refpixstep.fits integration 3\n",
      "processing jw01497005001_02201_00001_nis_refpixstep.fits integration 4\n",
      "processing jw01497005001_02201_00001_nis_refpixstep.fits integration 5\n",
      "processing jw01497006001_04201_00001_nis_refpixstep.fits integration 1\n",
      "processing jw01497006001_04201_00001_nis_refpixstep.fits integration 2\n",
      "processing jw01497007001_03201_00001_nis_refpixstep.fits integration 4\n",
      "processing jw01497007001_03201_00001_nis_refpixstep.fits integration 5\n",
      "processing jw01497009001_05301_00001_nis_refpixstep.fits integration 1\n",
      "processing jw01497009001_05301_00001_nis_refpixstep.fits integration 2\n",
      "processing jw01497009001_05301_00001_nis_refpixstep.fits integration 3\n",
      "processing jw01497009001_05301_00001_nis_refpixstep.fits integration 4\n",
      "processing jw01497009001_05301_00001_nis_refpixstep.fits integration 5\n",
      "processing jw01497011001_02201_00001_nis_refpixstep.fits integration 1\n",
      "processing jw01497011001_02201_00001_nis_refpixstep.fits integration 2\n",
      "processing jw01497011001_02201_00001_nis_refpixstep.fits integration 3\n",
      "processing jw01497011001_02201_00001_nis_refpixstep.fits integration 4\n",
      "processing jw01497011001_02201_00001_nis_refpixstep.fits integration 5\n",
      "processing jw01497013001_03201_00001_nis_refpixstep.fits integration 1\n",
      "processing jw01497013001_03201_00001_nis_refpixstep.fits integration 2\n",
      "processing jw01497013001_03201_00001_nis_refpixstep.fits integration 3\n",
      "processing jw01497013001_03201_00001_nis_refpixstep.fits integration 4\n"
     ]
    }
   ],
   "source": [
    "# Do it\n",
    "f, γ, ζ, ps_𝓵, ps_𝓻, ps_𝓷 = nircam_sirs_solve(F, nz, files)\n",
    "\n",
    "# Save\n",
    "SIRS.h5write(prog_id, Float32.(f), γ, ζ, ps_𝓵, ps_𝓻, ps_𝓷,\n",
    "                [\"nis\",], outdir*\"/20240430_sirs_niriss.h5\")"
   ]
  },
  {
   "cell_type": "code",
   "execution_count": null,
   "id": "829f90ea-3346-4536-91b3-ed9a591cc80b",
   "metadata": {},
   "outputs": [],
   "source": [
    "x = rfftfreq(2048, 1/(524*10.e-6)) # Frequency\n",
    "scatter(x[2:end], ps_𝓵[2:end], xaxis=:log10, yaxis=:log10)\n",
    "scatter!(x[2:end], ps_𝓻[2:end], xaxis=:log10, yaxis=:log10)\n",
    "scatter!(x[2:end], ps_𝓷[2:end,1], xaxis=:log10, yaxis=:log10)"
   ]
  },
  {
   "cell_type": "code",
   "execution_count": null,
   "id": "dedc17b5-637f-4a80-ae85-38cb6ce459df",
   "metadata": {},
   "outputs": [],
   "source": [
    "plot(x,abs.(ζ))"
   ]
  },
  {
   "cell_type": "code",
   "execution_count": null,
   "id": "d0639f82-c660-4a21-901e-18ff70f053e3",
   "metadata": {},
   "outputs": [],
   "source": []
  }
 ],
 "metadata": {
  "kernelspec": {
   "display_name": "roman-julia",
   "language": "julia",
   "name": "roman-julia"
  },
  "language_info": {
   "file_extension": ".jl",
   "mimetype": "application/julia",
   "name": "julia",
   "version": "1.10.0"
  }
 },
 "nbformat": 4,
 "nbformat_minor": 5
}
